{
 "cells": [
  {
   "cell_type": "markdown",
   "id": "83eae82b-4849-4f2e-b2b6-eef9306315ef",
   "metadata": {},
   "source": [
    "## Implementation of MLP to solve 8-3-8 encoder-decoder task"
   ]
  },
  {
   "cell_type": "code",
   "execution_count": 3,
   "id": "4eba7ff2-04f7-4db2-8a6f-faf5dc4e9e9a",
   "metadata": {
    "tags": []
   },
   "outputs": [],
   "source": [
    "# Imported libraries\n",
    "import numpy as np\n",
    "from sklearn.neural_network import MLPClassifier\n"
   ]
  },
  {
   "cell_type": "code",
   "execution_count": 117,
   "id": "57a3eeef-a1d9-4487-b612-294acb03c01c",
   "metadata": {
    "tags": []
   },
   "outputs": [],
   "source": [
    "def trainMLP(nb_hidden_neurons, max_iter=500, solver='lbfgs', activation='tanh', learning_rate=0.01):\n",
    "    # solver: lbfgs for relatively small datasets and to converge quickly\n",
    "    # hidden_layer_sizes: (3,) 1 hidden layer with 3 units\n",
    "    # activation: tanh activation function for NN\n",
    "    # max_iter: 500 maximum number of single iterations to find convergence\n",
    "    clf = MLPClassifier(solver=solver,\n",
    "                        hidden_layer_sizes=(nb_hidden_neurons,),\n",
    "                        activation=activation,\n",
    "                        max_iter=max_iter,\n",
    "                        learning_rate_init=learning_rate)\n",
    "    clf.fit(X, y)\n",
    "    return clf\n",
    "\n",
    "\n",
    "def makePrediction(X, clf, print_res=True):\n",
    "    predictions = []\n",
    "    for encoding in X:\n",
    "        if print_res:\n",
    "            print('Input:', encoding)\n",
    "            prediction = clf.predict([encoding])[0]\n",
    "            print('MLP mapped output:', prediction)\n",
    "            prediction_correct = True if (encoding==prediction).all() else False\n",
    "            predictions.append(prediction_correct)\n",
    "            print('Prediction correct:', prediction_correct)\n",
    "            print('\\n')\n",
    "        else:\n",
    "            prediction = clf.predict([encoding])[0]\n",
    "            prediction_correct = True if (encoding==prediction).all() else False\n",
    "            predictions.append(prediction_correct)\n",
    "    return predictions\n",
    "\n",
    "\n",
    "def calcOverallAccuracy(predictions):\n",
    "    predictions_list = [1 if x else 0 for x in predictions]\n",
    "    return sum(predictions_list)/len(predictions_list)\n",
    "    "
   ]
  },
  {
   "cell_type": "code",
   "execution_count": 144,
   "id": "711b46a0-e2d0-496b-8dd8-959d330555a5",
   "metadata": {
    "tags": []
   },
   "outputs": [
    {
     "name": "stdout",
     "output_type": "stream",
     "text": [
      "Input: [1. 0. 0. 0. 0. 0. 0. 0.]\n",
      "MLP mapped output: [0 0 0 0 0 0 0 0]\n",
      "Prediction correct: False\n",
      "\n",
      "\n",
      "Input: [0. 1. 0. 0. 0. 0. 0. 0.]\n",
      "MLP mapped output: [0 1 0 0 0 0 0 0]\n",
      "Prediction correct: True\n",
      "\n",
      "\n",
      "Input: [0. 0. 1. 0. 0. 0. 0. 0.]\n",
      "MLP mapped output: [0 0 1 0 0 0 0 0]\n",
      "Prediction correct: True\n",
      "\n",
      "\n",
      "Input: [0. 0. 0. 1. 0. 0. 0. 0.]\n",
      "MLP mapped output: [0 0 0 0 0 0 0 0]\n",
      "Prediction correct: False\n",
      "\n",
      "\n",
      "Input: [0. 0. 0. 0. 1. 0. 0. 0.]\n",
      "MLP mapped output: [0 0 0 0 0 0 0 0]\n",
      "Prediction correct: False\n",
      "\n",
      "\n",
      "Input: [0. 0. 0. 0. 0. 1. 0. 0.]\n",
      "MLP mapped output: [0 0 0 0 0 1 0 0]\n",
      "Prediction correct: True\n",
      "\n",
      "\n",
      "Input: [0. 0. 0. 0. 0. 0. 1. 0.]\n",
      "MLP mapped output: [0 0 0 0 0 0 0 0]\n",
      "Prediction correct: False\n",
      "\n",
      "\n",
      "Input: [0. 0. 0. 0. 0. 0. 0. 1.]\n",
      "MLP mapped output: [0 0 0 0 0 0 0 0]\n",
      "Prediction correct: False\n",
      "\n",
      "\n",
      "Overall accuracy: 0.375\n"
     ]
    }
   ],
   "source": [
    "# 8-dimensional input\n",
    "X = np.identity(8)\n",
    "# 8-dimensional output (mapped from input)\n",
    "y = X.copy()\n",
    "\n",
    "nb_hidden_neurons = 3\n",
    "\n",
    "clf = trainMLP(nb_hidden_neurons=nb_hidden_neurons)\n",
    "predictions = makePrediction(X, clf)\n",
    "print('Overall accuracy:', calcOverallAccuracy(predictions))\n"
   ]
  },
  {
   "cell_type": "code",
   "execution_count": 145,
   "id": "fbbdc977-eb0a-4445-ad82-6821c92fd525",
   "metadata": {
    "tags": []
   },
   "outputs": [
    {
     "data": {
      "text/plain": [
       "[False, True, True, False, False, True, False, False]"
      ]
     },
     "execution_count": 145,
     "metadata": {},
     "output_type": "execute_result"
    }
   ],
   "source": [
    "predictions"
   ]
  },
  {
   "cell_type": "markdown",
   "id": "c169a0a5-1710-4cdd-9a35-5c941ca9600c",
   "metadata": {},
   "source": [
    "## 8-2-8 task"
   ]
  },
  {
   "cell_type": "code",
   "execution_count": 119,
   "id": "7d9940f6-61ed-4a16-be6b-f3a62638e2ad",
   "metadata": {
    "tags": []
   },
   "outputs": [
    {
     "name": "stdout",
     "output_type": "stream",
     "text": [
      "Input: [1. 0. 0. 0. 0. 0. 0. 0.]\n",
      "MLP mapped output: [1 0 0 0 0 0 0 0]\n",
      "Prediction correct: True\n",
      "\n",
      "\n",
      "Input: [0. 1. 0. 0. 0. 0. 0. 0.]\n",
      "MLP mapped output: [0 1 0 0 0 0 0 0]\n",
      "Prediction correct: True\n",
      "\n",
      "\n",
      "Input: [0. 0. 1. 0. 0. 0. 0. 0.]\n",
      "MLP mapped output: [0 0 1 0 0 0 0 0]\n",
      "Prediction correct: True\n",
      "\n",
      "\n",
      "Input: [0. 0. 0. 1. 0. 0. 0. 0.]\n",
      "MLP mapped output: [0 0 0 1 0 0 0 0]\n",
      "Prediction correct: True\n",
      "\n",
      "\n",
      "Input: [0. 0. 0. 0. 1. 0. 0. 0.]\n",
      "MLP mapped output: [0 0 0 0 1 0 0 0]\n",
      "Prediction correct: True\n",
      "\n",
      "\n",
      "Input: [0. 0. 0. 0. 0. 1. 0. 0.]\n",
      "MLP mapped output: [0 0 0 0 0 1 0 0]\n",
      "Prediction correct: True\n",
      "\n",
      "\n",
      "Input: [0. 0. 0. 0. 0. 0. 1. 0.]\n",
      "MLP mapped output: [0 0 0 0 0 0 1 0]\n",
      "Prediction correct: True\n",
      "\n",
      "\n",
      "Input: [0. 0. 0. 0. 0. 0. 0. 1.]\n",
      "MLP mapped output: [0 0 0 0 0 0 0 1]\n",
      "Prediction correct: True\n",
      "\n",
      "\n",
      "Overall accuracy: 1.0\n"
     ]
    },
    {
     "name": "stderr",
     "output_type": "stream",
     "text": [
      "/Users/fira/tnn_39/lib/python3.9/site-packages/sklearn/neural_network/_multilayer_perceptron.py:545: ConvergenceWarning: lbfgs failed to converge (status=1):\n",
      "STOP: TOTAL NO. of ITERATIONS REACHED LIMIT.\n",
      "\n",
      "Increase the number of iterations (max_iter) or scale the data as shown in:\n",
      "    https://scikit-learn.org/stable/modules/preprocessing.html\n",
      "  self.n_iter_ = _check_optimize_result(\"lbfgs\", opt_res, self.max_iter)\n"
     ]
    }
   ],
   "source": [
    "# 8-dimensional input\n",
    "X = np.identity(8)\n",
    "# 8-dimensional output (mapped from input)\n",
    "y = X.copy()\n",
    "nb_hidden_neurons = 2\n",
    "\n",
    "clf = trainMLP(nb_hidden_neurons=nb_hidden_neurons, max_iter=1000)\n",
    "predictions = makePrediction(X, clf)\n",
    "print('Overall accuracy:', calcOverallAccuracy(predictions))\n",
    "    "
   ]
  },
  {
   "cell_type": "markdown",
   "id": "f8dcf3e6-2608-4b65-b7a5-834f7a302bcb",
   "metadata": {},
   "source": [
    "## 50-2-50 task"
   ]
  },
  {
   "cell_type": "code",
   "execution_count": 122,
   "id": "1a437f30-7bad-4564-b8ba-3ec71c7844f3",
   "metadata": {
    "tags": []
   },
   "outputs": [
    {
     "name": "stdout",
     "output_type": "stream",
     "text": [
      "Overall accuracy: 0.0\n"
     ]
    }
   ],
   "source": [
    "# 50-dimensional input\n",
    "X = np.identity(50)\n",
    "# 50-dimensional output (mapped from input)\n",
    "y = X.copy()\n",
    "\n",
    "nb_hidden_neurons = 2\n",
    "\n",
    "clf = trainMLP(nb_hidden_neurons=nb_hidden_neurons, max_iter=1000)\n",
    "predictions = makePrediction(X, clf, print_res=False)\n",
    "print('Overall accuracy:', calcOverallAccuracy(predictions))\n",
    "    \n",
    "    "
   ]
  },
  {
   "cell_type": "markdown",
   "id": "90f7460a-a8e3-4245-8ed2-8f3379ab5c21",
   "metadata": {},
   "source": [
    "## 64-6-64 task"
   ]
  },
  {
   "cell_type": "code",
   "execution_count": 139,
   "id": "6e18454d-2a0c-4706-b2de-37b8b198450e",
   "metadata": {
    "tags": []
   },
   "outputs": [
    {
     "name": "stdout",
     "output_type": "stream",
     "text": [
      "Overall accuracy: 0.92\n"
     ]
    },
    {
     "name": "stderr",
     "output_type": "stream",
     "text": [
      "/Users/fira/tnn_39/lib/python3.9/site-packages/sklearn/neural_network/_multilayer_perceptron.py:545: ConvergenceWarning: lbfgs failed to converge (status=1):\n",
      "STOP: TOTAL NO. of ITERATIONS REACHED LIMIT.\n",
      "\n",
      "Increase the number of iterations (max_iter) or scale the data as shown in:\n",
      "    https://scikit-learn.org/stable/modules/preprocessing.html\n",
      "  self.n_iter_ = _check_optimize_result(\"lbfgs\", opt_res, self.max_iter)\n"
     ]
    }
   ],
   "source": [
    "# 64-dimensional input\n",
    "X = np.identity(50)\n",
    "# 64-dimensional output (mapped from input)\n",
    "y = X.copy()\n",
    "\n",
    "nb_hidden_neurons = 6\n",
    "\n",
    "clf = trainMLP(nb_hidden_neurons=nb_hidden_neurons, max_iter=1400)\n",
    "predictions = makePrediction(X, clf, print_res=False)\n",
    "print('Overall accuracy:', calcOverallAccuracy(predictions))"
   ]
  },
  {
   "cell_type": "code",
   "execution_count": null,
   "id": "ed179918-94b1-4db3-b67d-a56cc74e7443",
   "metadata": {},
   "outputs": [],
   "source": []
  }
 ],
 "metadata": {
  "kernelspec": {
   "display_name": "tnn_39",
   "language": "python",
   "name": "tnn_39"
  },
  "language_info": {
   "codemirror_mode": {
    "name": "ipython",
    "version": 3
   },
   "file_extension": ".py",
   "mimetype": "text/x-python",
   "name": "python",
   "nbconvert_exporter": "python",
   "pygments_lexer": "ipython3",
   "version": "3.9.17"
  }
 },
 "nbformat": 4,
 "nbformat_minor": 5
}
